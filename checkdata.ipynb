{
 "cells": [
  {
   "cell_type": "code",
   "execution_count": 2,
   "metadata": {
    "ExecuteTime": {
     "end_time": "2021-12-19T19:45:11.817799Z",
     "start_time": "2021-12-19T19:45:11.813810Z"
    }
   },
   "outputs": [],
   "source": [
    "#!pip install plotly"
   ]
  },
  {
   "cell_type": "code",
   "execution_count": 3,
   "metadata": {
    "ExecuteTime": {
     "end_time": "2021-12-19T19:45:20.709291Z",
     "start_time": "2021-12-19T19:45:12.017790Z"
    },
    "scrolled": true
   },
   "outputs": [],
   "source": [
    "import pandas as pd\n",
    "import numpy as np\n",
    "pd.set_option(\"display.max_columns\", None)\n",
    "from datetime import datetime\n",
    "\n",
    "import plotly.graph_objects as go\n",
    "from plotly.subplots import make_subplots\n",
    "\n",
    "import seaborn as sns\n",
    "import matplotlib.pyplot as plt\n",
    "plt.rcParams.update({'font.size': 14})\n",
    "\n",
    "from statsmodels.graphics.tsaplots import plot_acf\n",
    "from statsmodels.graphics.tsaplots import plot_pacf"
   ]
  },
  {
   "cell_type": "code",
   "execution_count": 4,
   "metadata": {
    "ExecuteTime": {
     "end_time": "2021-12-19T19:45:23.199213Z",
     "start_time": "2021-12-19T19:45:20.710960Z"
    }
   },
   "outputs": [],
   "source": [
    "## Preprocessing Libraries\n",
    "from sklearn.model_selection import train_test_split\n",
    "from sklearn.impute import KNNImputer\n",
    "from sklearn.feature_selection import VarianceThreshold\n",
    "from sklearn.preprocessing import LabelEncoder, StandardScaler, MinMaxScaler\n"
   ]
  },
  {
   "cell_type": "markdown",
   "metadata": {},
   "source": [
    "# READING DATA "
   ]
  },
  {
   "cell_type": "code",
   "execution_count": null,
   "metadata": {},
   "outputs": [],
   "source": []
  },
  {
   "cell_type": "code",
   "execution_count": 5,
   "metadata": {
    "ExecuteTime": {
     "end_time": "2021-12-19T19:46:22.559830Z",
     "start_time": "2021-12-19T19:45:23.201197Z"
    },
    "scrolled": true
   },
   "outputs": [],
   "source": [
    "df1 = pd.read_csv('./asset_details.csv')\n",
    "df2 = pd.read_csv('./example_sample_submission.csv')\n",
    "df3 = pd.read_csv('./example_test.csv')\n",
    "df4 = pd.read_csv('./supplemental_train.csv')\n",
    "df5 =  pd.read_csv('./train.csv')\n"
   ]
  },
  {
   "cell_type": "code",
   "execution_count": 6,
   "metadata": {
    "ExecuteTime": {
     "end_time": "2021-12-19T19:46:23.149748Z",
     "start_time": "2021-12-19T19:46:22.733298Z"
    }
   },
   "outputs": [
    {
     "data": {
      "text/html": [
       "<div>\n",
       "<style scoped>\n",
       "    .dataframe tbody tr th:only-of-type {\n",
       "        vertical-align: middle;\n",
       "    }\n",
       "\n",
       "    .dataframe tbody tr th {\n",
       "        vertical-align: top;\n",
       "    }\n",
       "\n",
       "    .dataframe thead th {\n",
       "        text-align: right;\n",
       "    }\n",
       "</style>\n",
       "<table border=\"1\" class=\"dataframe\">\n",
       "  <thead>\n",
       "    <tr style=\"text-align: right;\">\n",
       "      <th></th>\n",
       "      <th>timestamp</th>\n",
       "      <th>Asset_ID</th>\n",
       "      <th>Count</th>\n",
       "      <th>Open</th>\n",
       "      <th>High</th>\n",
       "      <th>Low</th>\n",
       "      <th>Close</th>\n",
       "      <th>Volume</th>\n",
       "      <th>VWAP</th>\n",
       "      <th>Target</th>\n",
       "    </tr>\n",
       "  </thead>\n",
       "  <tbody>\n",
       "    <tr>\n",
       "      <th>0</th>\n",
       "      <td>1514764860</td>\n",
       "      <td>2</td>\n",
       "      <td>40.0</td>\n",
       "      <td>2376.580000</td>\n",
       "      <td>2399.500000</td>\n",
       "      <td>2357.140000</td>\n",
       "      <td>2374.590000</td>\n",
       "      <td>1.923301e+01</td>\n",
       "      <td>2373.116392</td>\n",
       "      <td>-0.004218</td>\n",
       "    </tr>\n",
       "    <tr>\n",
       "      <th>1</th>\n",
       "      <td>1514764860</td>\n",
       "      <td>0</td>\n",
       "      <td>5.0</td>\n",
       "      <td>8.530000</td>\n",
       "      <td>8.530000</td>\n",
       "      <td>8.530000</td>\n",
       "      <td>8.530000</td>\n",
       "      <td>7.838000e+01</td>\n",
       "      <td>8.530000</td>\n",
       "      <td>-0.014399</td>\n",
       "    </tr>\n",
       "    <tr>\n",
       "      <th>2</th>\n",
       "      <td>1514764860</td>\n",
       "      <td>1</td>\n",
       "      <td>229.0</td>\n",
       "      <td>13835.194000</td>\n",
       "      <td>14013.800000</td>\n",
       "      <td>13666.110000</td>\n",
       "      <td>13850.176000</td>\n",
       "      <td>3.155006e+01</td>\n",
       "      <td>13827.062093</td>\n",
       "      <td>-0.014643</td>\n",
       "    </tr>\n",
       "    <tr>\n",
       "      <th>3</th>\n",
       "      <td>1514764860</td>\n",
       "      <td>5</td>\n",
       "      <td>32.0</td>\n",
       "      <td>7.659600</td>\n",
       "      <td>7.659600</td>\n",
       "      <td>7.656700</td>\n",
       "      <td>7.657600</td>\n",
       "      <td>6.626713e+03</td>\n",
       "      <td>7.657713</td>\n",
       "      <td>-0.013922</td>\n",
       "    </tr>\n",
       "    <tr>\n",
       "      <th>4</th>\n",
       "      <td>1514764860</td>\n",
       "      <td>7</td>\n",
       "      <td>5.0</td>\n",
       "      <td>25.920000</td>\n",
       "      <td>25.920000</td>\n",
       "      <td>25.874000</td>\n",
       "      <td>25.877000</td>\n",
       "      <td>1.210873e+02</td>\n",
       "      <td>25.891363</td>\n",
       "      <td>-0.008264</td>\n",
       "    </tr>\n",
       "    <tr>\n",
       "      <th>...</th>\n",
       "      <td>...</td>\n",
       "      <td>...</td>\n",
       "      <td>...</td>\n",
       "      <td>...</td>\n",
       "      <td>...</td>\n",
       "      <td>...</td>\n",
       "      <td>...</td>\n",
       "      <td>...</td>\n",
       "      <td>...</td>\n",
       "      <td>...</td>\n",
       "    </tr>\n",
       "    <tr>\n",
       "      <th>24236801</th>\n",
       "      <td>1632182400</td>\n",
       "      <td>9</td>\n",
       "      <td>775.0</td>\n",
       "      <td>157.181571</td>\n",
       "      <td>157.250000</td>\n",
       "      <td>156.700000</td>\n",
       "      <td>156.943857</td>\n",
       "      <td>4.663725e+03</td>\n",
       "      <td>156.994319</td>\n",
       "      <td>NaN</td>\n",
       "    </tr>\n",
       "    <tr>\n",
       "      <th>24236802</th>\n",
       "      <td>1632182400</td>\n",
       "      <td>10</td>\n",
       "      <td>34.0</td>\n",
       "      <td>2437.065067</td>\n",
       "      <td>2438.000000</td>\n",
       "      <td>2430.226900</td>\n",
       "      <td>2432.907467</td>\n",
       "      <td>3.975460e+00</td>\n",
       "      <td>2434.818747</td>\n",
       "      <td>NaN</td>\n",
       "    </tr>\n",
       "    <tr>\n",
       "      <th>24236803</th>\n",
       "      <td>1632182400</td>\n",
       "      <td>13</td>\n",
       "      <td>380.0</td>\n",
       "      <td>0.091390</td>\n",
       "      <td>0.091527</td>\n",
       "      <td>0.091260</td>\n",
       "      <td>0.091349</td>\n",
       "      <td>2.193732e+06</td>\n",
       "      <td>0.091388</td>\n",
       "      <td>NaN</td>\n",
       "    </tr>\n",
       "    <tr>\n",
       "      <th>24236804</th>\n",
       "      <td>1632182400</td>\n",
       "      <td>12</td>\n",
       "      <td>177.0</td>\n",
       "      <td>0.282168</td>\n",
       "      <td>0.282438</td>\n",
       "      <td>0.281842</td>\n",
       "      <td>0.282051</td>\n",
       "      <td>1.828508e+05</td>\n",
       "      <td>0.282134</td>\n",
       "      <td>NaN</td>\n",
       "    </tr>\n",
       "    <tr>\n",
       "      <th>24236805</th>\n",
       "      <td>1632182400</td>\n",
       "      <td>11</td>\n",
       "      <td>48.0</td>\n",
       "      <td>232.695000</td>\n",
       "      <td>232.800000</td>\n",
       "      <td>232.240000</td>\n",
       "      <td>232.275000</td>\n",
       "      <td>1.035123e+02</td>\n",
       "      <td>232.569697</td>\n",
       "      <td>NaN</td>\n",
       "    </tr>\n",
       "  </tbody>\n",
       "</table>\n",
       "<p>24236806 rows × 10 columns</p>\n",
       "</div>"
      ],
      "text/plain": [
       "           timestamp  Asset_ID  Count          Open          High  \\\n",
       "0         1514764860         2   40.0   2376.580000   2399.500000   \n",
       "1         1514764860         0    5.0      8.530000      8.530000   \n",
       "2         1514764860         1  229.0  13835.194000  14013.800000   \n",
       "3         1514764860         5   32.0      7.659600      7.659600   \n",
       "4         1514764860         7    5.0     25.920000     25.920000   \n",
       "...              ...       ...    ...           ...           ...   \n",
       "24236801  1632182400         9  775.0    157.181571    157.250000   \n",
       "24236802  1632182400        10   34.0   2437.065067   2438.000000   \n",
       "24236803  1632182400        13  380.0      0.091390      0.091527   \n",
       "24236804  1632182400        12  177.0      0.282168      0.282438   \n",
       "24236805  1632182400        11   48.0    232.695000    232.800000   \n",
       "\n",
       "                   Low         Close        Volume          VWAP    Target  \n",
       "0          2357.140000   2374.590000  1.923301e+01   2373.116392 -0.004218  \n",
       "1             8.530000      8.530000  7.838000e+01      8.530000 -0.014399  \n",
       "2         13666.110000  13850.176000  3.155006e+01  13827.062093 -0.014643  \n",
       "3             7.656700      7.657600  6.626713e+03      7.657713 -0.013922  \n",
       "4            25.874000     25.877000  1.210873e+02     25.891363 -0.008264  \n",
       "...                ...           ...           ...           ...       ...  \n",
       "24236801    156.700000    156.943857  4.663725e+03    156.994319       NaN  \n",
       "24236802   2430.226900   2432.907467  3.975460e+00   2434.818747       NaN  \n",
       "24236803      0.091260      0.091349  2.193732e+06      0.091388       NaN  \n",
       "24236804      0.281842      0.282051  1.828508e+05      0.282134       NaN  \n",
       "24236805    232.240000    232.275000  1.035123e+02    232.569697       NaN  \n",
       "\n",
       "[24236806 rows x 10 columns]"
      ]
     },
     "execution_count": 6,
     "metadata": {},
     "output_type": "execute_result"
    }
   ],
   "source": [
    "df5"
   ]
  },
  {
   "cell_type": "code",
   "execution_count": 7,
   "metadata": {
    "ExecuteTime": {
     "end_time": "2021-12-19T19:46:23.156729Z",
     "start_time": "2021-12-19T19:46:23.151746Z"
    }
   },
   "outputs": [],
   "source": [
    "import collections "
   ]
  },
  {
   "cell_type": "code",
   "execution_count": 8,
   "metadata": {
    "ExecuteTime": {
     "end_time": "2021-12-19T19:46:23.170691Z",
     "start_time": "2021-12-19T19:46:23.159723Z"
    },
    "scrolled": true
   },
   "outputs": [],
   "source": [
    "dict = {}"
   ]
  },
  {
   "cell_type": "code",
   "execution_count": null,
   "metadata": {},
   "outputs": [],
   "source": []
  },
  {
   "cell_type": "code",
   "execution_count": 9,
   "metadata": {
    "ExecuteTime": {
     "end_time": "2021-12-19T19:46:23.199641Z",
     "start_time": "2021-12-19T19:46:23.173686Z"
    }
   },
   "outputs": [
    {
     "data": {
      "text/html": [
       "<div>\n",
       "<style scoped>\n",
       "    .dataframe tbody tr th:only-of-type {\n",
       "        vertical-align: middle;\n",
       "    }\n",
       "\n",
       "    .dataframe tbody tr th {\n",
       "        vertical-align: top;\n",
       "    }\n",
       "\n",
       "    .dataframe thead th {\n",
       "        text-align: right;\n",
       "    }\n",
       "</style>\n",
       "<table border=\"1\" class=\"dataframe\">\n",
       "  <thead>\n",
       "    <tr style=\"text-align: right;\">\n",
       "      <th></th>\n",
       "      <th>timestamp</th>\n",
       "      <th>Asset_ID</th>\n",
       "      <th>Count</th>\n",
       "      <th>Open</th>\n",
       "      <th>High</th>\n",
       "      <th>Low</th>\n",
       "      <th>Close</th>\n",
       "      <th>Volume</th>\n",
       "      <th>VWAP</th>\n",
       "      <th>Target</th>\n",
       "    </tr>\n",
       "  </thead>\n",
       "  <tbody>\n",
       "    <tr>\n",
       "      <th>0</th>\n",
       "      <td>1514764860</td>\n",
       "      <td>2</td>\n",
       "      <td>40.0</td>\n",
       "      <td>2376.580000</td>\n",
       "      <td>2399.500000</td>\n",
       "      <td>2357.140000</td>\n",
       "      <td>2374.590000</td>\n",
       "      <td>1.923301e+01</td>\n",
       "      <td>2373.116392</td>\n",
       "      <td>-0.004218</td>\n",
       "    </tr>\n",
       "    <tr>\n",
       "      <th>1</th>\n",
       "      <td>1514764860</td>\n",
       "      <td>0</td>\n",
       "      <td>5.0</td>\n",
       "      <td>8.530000</td>\n",
       "      <td>8.530000</td>\n",
       "      <td>8.530000</td>\n",
       "      <td>8.530000</td>\n",
       "      <td>7.838000e+01</td>\n",
       "      <td>8.530000</td>\n",
       "      <td>-0.014399</td>\n",
       "    </tr>\n",
       "    <tr>\n",
       "      <th>2</th>\n",
       "      <td>1514764860</td>\n",
       "      <td>1</td>\n",
       "      <td>229.0</td>\n",
       "      <td>13835.194000</td>\n",
       "      <td>14013.800000</td>\n",
       "      <td>13666.110000</td>\n",
       "      <td>13850.176000</td>\n",
       "      <td>3.155006e+01</td>\n",
       "      <td>13827.062093</td>\n",
       "      <td>-0.014643</td>\n",
       "    </tr>\n",
       "    <tr>\n",
       "      <th>3</th>\n",
       "      <td>1514764860</td>\n",
       "      <td>5</td>\n",
       "      <td>32.0</td>\n",
       "      <td>7.659600</td>\n",
       "      <td>7.659600</td>\n",
       "      <td>7.656700</td>\n",
       "      <td>7.657600</td>\n",
       "      <td>6.626713e+03</td>\n",
       "      <td>7.657713</td>\n",
       "      <td>-0.013922</td>\n",
       "    </tr>\n",
       "    <tr>\n",
       "      <th>4</th>\n",
       "      <td>1514764860</td>\n",
       "      <td>7</td>\n",
       "      <td>5.0</td>\n",
       "      <td>25.920000</td>\n",
       "      <td>25.920000</td>\n",
       "      <td>25.874000</td>\n",
       "      <td>25.877000</td>\n",
       "      <td>1.210873e+02</td>\n",
       "      <td>25.891363</td>\n",
       "      <td>-0.008264</td>\n",
       "    </tr>\n",
       "    <tr>\n",
       "      <th>...</th>\n",
       "      <td>...</td>\n",
       "      <td>...</td>\n",
       "      <td>...</td>\n",
       "      <td>...</td>\n",
       "      <td>...</td>\n",
       "      <td>...</td>\n",
       "      <td>...</td>\n",
       "      <td>...</td>\n",
       "      <td>...</td>\n",
       "      <td>...</td>\n",
       "    </tr>\n",
       "    <tr>\n",
       "      <th>24236801</th>\n",
       "      <td>1632182400</td>\n",
       "      <td>9</td>\n",
       "      <td>775.0</td>\n",
       "      <td>157.181571</td>\n",
       "      <td>157.250000</td>\n",
       "      <td>156.700000</td>\n",
       "      <td>156.943857</td>\n",
       "      <td>4.663725e+03</td>\n",
       "      <td>156.994319</td>\n",
       "      <td>NaN</td>\n",
       "    </tr>\n",
       "    <tr>\n",
       "      <th>24236802</th>\n",
       "      <td>1632182400</td>\n",
       "      <td>10</td>\n",
       "      <td>34.0</td>\n",
       "      <td>2437.065067</td>\n",
       "      <td>2438.000000</td>\n",
       "      <td>2430.226900</td>\n",
       "      <td>2432.907467</td>\n",
       "      <td>3.975460e+00</td>\n",
       "      <td>2434.818747</td>\n",
       "      <td>NaN</td>\n",
       "    </tr>\n",
       "    <tr>\n",
       "      <th>24236803</th>\n",
       "      <td>1632182400</td>\n",
       "      <td>13</td>\n",
       "      <td>380.0</td>\n",
       "      <td>0.091390</td>\n",
       "      <td>0.091527</td>\n",
       "      <td>0.091260</td>\n",
       "      <td>0.091349</td>\n",
       "      <td>2.193732e+06</td>\n",
       "      <td>0.091388</td>\n",
       "      <td>NaN</td>\n",
       "    </tr>\n",
       "    <tr>\n",
       "      <th>24236804</th>\n",
       "      <td>1632182400</td>\n",
       "      <td>12</td>\n",
       "      <td>177.0</td>\n",
       "      <td>0.282168</td>\n",
       "      <td>0.282438</td>\n",
       "      <td>0.281842</td>\n",
       "      <td>0.282051</td>\n",
       "      <td>1.828508e+05</td>\n",
       "      <td>0.282134</td>\n",
       "      <td>NaN</td>\n",
       "    </tr>\n",
       "    <tr>\n",
       "      <th>24236805</th>\n",
       "      <td>1632182400</td>\n",
       "      <td>11</td>\n",
       "      <td>48.0</td>\n",
       "      <td>232.695000</td>\n",
       "      <td>232.800000</td>\n",
       "      <td>232.240000</td>\n",
       "      <td>232.275000</td>\n",
       "      <td>1.035123e+02</td>\n",
       "      <td>232.569697</td>\n",
       "      <td>NaN</td>\n",
       "    </tr>\n",
       "  </tbody>\n",
       "</table>\n",
       "<p>24236806 rows × 10 columns</p>\n",
       "</div>"
      ],
      "text/plain": [
       "           timestamp  Asset_ID  Count          Open          High  \\\n",
       "0         1514764860         2   40.0   2376.580000   2399.500000   \n",
       "1         1514764860         0    5.0      8.530000      8.530000   \n",
       "2         1514764860         1  229.0  13835.194000  14013.800000   \n",
       "3         1514764860         5   32.0      7.659600      7.659600   \n",
       "4         1514764860         7    5.0     25.920000     25.920000   \n",
       "...              ...       ...    ...           ...           ...   \n",
       "24236801  1632182400         9  775.0    157.181571    157.250000   \n",
       "24236802  1632182400        10   34.0   2437.065067   2438.000000   \n",
       "24236803  1632182400        13  380.0      0.091390      0.091527   \n",
       "24236804  1632182400        12  177.0      0.282168      0.282438   \n",
       "24236805  1632182400        11   48.0    232.695000    232.800000   \n",
       "\n",
       "                   Low         Close        Volume          VWAP    Target  \n",
       "0          2357.140000   2374.590000  1.923301e+01   2373.116392 -0.004218  \n",
       "1             8.530000      8.530000  7.838000e+01      8.530000 -0.014399  \n",
       "2         13666.110000  13850.176000  3.155006e+01  13827.062093 -0.014643  \n",
       "3             7.656700      7.657600  6.626713e+03      7.657713 -0.013922  \n",
       "4            25.874000     25.877000  1.210873e+02     25.891363 -0.008264  \n",
       "...                ...           ...           ...           ...       ...  \n",
       "24236801    156.700000    156.943857  4.663725e+03    156.994319       NaN  \n",
       "24236802   2430.226900   2432.907467  3.975460e+00   2434.818747       NaN  \n",
       "24236803      0.091260      0.091349  2.193732e+06      0.091388       NaN  \n",
       "24236804      0.281842      0.282051  1.828508e+05      0.282134       NaN  \n",
       "24236805    232.240000    232.275000  1.035123e+02    232.569697       NaN  \n",
       "\n",
       "[24236806 rows x 10 columns]"
      ]
     },
     "execution_count": 9,
     "metadata": {},
     "output_type": "execute_result"
    }
   ],
   "source": [
    "df5"
   ]
  },
  {
   "cell_type": "code",
   "execution_count": 10,
   "metadata": {
    "ExecuteTime": {
     "end_time": "2021-12-19T19:46:33.387946Z",
     "start_time": "2021-12-19T19:46:23.203604Z"
    }
   },
   "outputs": [],
   "source": [
    "train = df5.copy()"
   ]
  },
  {
   "cell_type": "code",
   "execution_count": 11,
   "metadata": {
    "ExecuteTime": {
     "end_time": "2021-12-19T19:47:18.971171Z",
     "start_time": "2021-12-19T19:46:45.763635Z"
    },
    "scrolled": true
   },
   "outputs": [
    {
     "data": {
      "text/html": [
       "<div>\n",
       "<style scoped>\n",
       "    .dataframe tbody tr th:only-of-type {\n",
       "        vertical-align: middle;\n",
       "    }\n",
       "\n",
       "    .dataframe tbody tr th {\n",
       "        vertical-align: top;\n",
       "    }\n",
       "\n",
       "    .dataframe thead th {\n",
       "        text-align: right;\n",
       "    }\n",
       "</style>\n",
       "<table border=\"1\" class=\"dataframe\">\n",
       "  <thead>\n",
       "    <tr style=\"text-align: right;\">\n",
       "      <th></th>\n",
       "      <th>timestamp</th>\n",
       "      <th>Asset_ID</th>\n",
       "      <th>Count</th>\n",
       "      <th>Open</th>\n",
       "      <th>High</th>\n",
       "      <th>Low</th>\n",
       "      <th>Close</th>\n",
       "      <th>Volume</th>\n",
       "      <th>VWAP</th>\n",
       "      <th>Target</th>\n",
       "    </tr>\n",
       "  </thead>\n",
       "  <tbody>\n",
       "    <tr>\n",
       "      <th>count</th>\n",
       "      <td>2.423681e+07</td>\n",
       "      <td>2.423681e+07</td>\n",
       "      <td>2.423681e+07</td>\n",
       "      <td>2.423681e+07</td>\n",
       "      <td>2.423681e+07</td>\n",
       "      <td>2.423681e+07</td>\n",
       "      <td>2.423681e+07</td>\n",
       "      <td>2.423681e+07</td>\n",
       "      <td>2.423680e+07</td>\n",
       "      <td>2.348647e+07</td>\n",
       "    </tr>\n",
       "    <tr>\n",
       "      <th>mean</th>\n",
       "      <td>1.577120e+09</td>\n",
       "      <td>6.292544e+00</td>\n",
       "      <td>2.864593e+02</td>\n",
       "      <td>1.432640e+03</td>\n",
       "      <td>1.436350e+03</td>\n",
       "      <td>1.429568e+03</td>\n",
       "      <td>1.432640e+03</td>\n",
       "      <td>2.868530e+05</td>\n",
       "      <td>NaN</td>\n",
       "      <td>7.121752e-06</td>\n",
       "    </tr>\n",
       "    <tr>\n",
       "      <th>std</th>\n",
       "      <td>3.323350e+07</td>\n",
       "      <td>4.091861e+00</td>\n",
       "      <td>8.673982e+02</td>\n",
       "      <td>6.029605e+03</td>\n",
       "      <td>6.039482e+03</td>\n",
       "      <td>6.020261e+03</td>\n",
       "      <td>6.029611e+03</td>\n",
       "      <td>2.433935e+06</td>\n",
       "      <td>NaN</td>\n",
       "      <td>5.679042e-03</td>\n",
       "    </tr>\n",
       "    <tr>\n",
       "      <th>min</th>\n",
       "      <td>1.514765e+09</td>\n",
       "      <td>0.000000e+00</td>\n",
       "      <td>1.000000e+00</td>\n",
       "      <td>1.170400e-03</td>\n",
       "      <td>1.195000e-03</td>\n",
       "      <td>2.000000e-04</td>\n",
       "      <td>1.171400e-03</td>\n",
       "      <td>-3.662812e-01</td>\n",
       "      <td>-inf</td>\n",
       "      <td>-5.093509e-01</td>\n",
       "    </tr>\n",
       "    <tr>\n",
       "      <th>25%</th>\n",
       "      <td>1.549011e+09</td>\n",
       "      <td>3.000000e+00</td>\n",
       "      <td>1.900000e+01</td>\n",
       "      <td>2.676500e-01</td>\n",
       "      <td>2.681600e-01</td>\n",
       "      <td>2.669000e-01</td>\n",
       "      <td>2.676484e-01</td>\n",
       "      <td>1.410725e+02</td>\n",
       "      <td>2.676368e-01</td>\n",
       "      <td>-1.694354e-03</td>\n",
       "    </tr>\n",
       "    <tr>\n",
       "      <th>50%</th>\n",
       "      <td>1.578372e+09</td>\n",
       "      <td>6.000000e+00</td>\n",
       "      <td>6.400000e+01</td>\n",
       "      <td>1.428860e+01</td>\n",
       "      <td>1.431250e+01</td>\n",
       "      <td>1.426300e+01</td>\n",
       "      <td>1.428920e+01</td>\n",
       "      <td>1.295415e+03</td>\n",
       "      <td>1.428769e+01</td>\n",
       "      <td>-4.289844e-05</td>\n",
       "    </tr>\n",
       "    <tr>\n",
       "      <th>75%</th>\n",
       "      <td>1.606198e+09</td>\n",
       "      <td>9.000000e+00</td>\n",
       "      <td>2.210000e+02</td>\n",
       "      <td>2.288743e+02</td>\n",
       "      <td>2.293000e+02</td>\n",
       "      <td>2.284200e+02</td>\n",
       "      <td>2.288729e+02</td>\n",
       "      <td>2.729764e+04</td>\n",
       "      <td>2.288728e+02</td>\n",
       "      <td>1.601520e-03</td>\n",
       "    </tr>\n",
       "    <tr>\n",
       "      <th>max</th>\n",
       "      <td>1.632182e+09</td>\n",
       "      <td>1.300000e+01</td>\n",
       "      <td>1.650160e+05</td>\n",
       "      <td>6.480594e+04</td>\n",
       "      <td>6.490000e+04</td>\n",
       "      <td>6.467053e+04</td>\n",
       "      <td>6.480854e+04</td>\n",
       "      <td>7.597554e+08</td>\n",
       "      <td>inf</td>\n",
       "      <td>9.641699e-01</td>\n",
       "    </tr>\n",
       "  </tbody>\n",
       "</table>\n",
       "</div>"
      ],
      "text/plain": [
       "          timestamp      Asset_ID         Count          Open          High  \\\n",
       "count  2.423681e+07  2.423681e+07  2.423681e+07  2.423681e+07  2.423681e+07   \n",
       "mean   1.577120e+09  6.292544e+00  2.864593e+02  1.432640e+03  1.436350e+03   \n",
       "std    3.323350e+07  4.091861e+00  8.673982e+02  6.029605e+03  6.039482e+03   \n",
       "min    1.514765e+09  0.000000e+00  1.000000e+00  1.170400e-03  1.195000e-03   \n",
       "25%    1.549011e+09  3.000000e+00  1.900000e+01  2.676500e-01  2.681600e-01   \n",
       "50%    1.578372e+09  6.000000e+00  6.400000e+01  1.428860e+01  1.431250e+01   \n",
       "75%    1.606198e+09  9.000000e+00  2.210000e+02  2.288743e+02  2.293000e+02   \n",
       "max    1.632182e+09  1.300000e+01  1.650160e+05  6.480594e+04  6.490000e+04   \n",
       "\n",
       "                Low         Close        Volume          VWAP        Target  \n",
       "count  2.423681e+07  2.423681e+07  2.423681e+07  2.423680e+07  2.348647e+07  \n",
       "mean   1.429568e+03  1.432640e+03  2.868530e+05           NaN  7.121752e-06  \n",
       "std    6.020261e+03  6.029611e+03  2.433935e+06           NaN  5.679042e-03  \n",
       "min    2.000000e-04  1.171400e-03 -3.662812e-01          -inf -5.093509e-01  \n",
       "25%    2.669000e-01  2.676484e-01  1.410725e+02  2.676368e-01 -1.694354e-03  \n",
       "50%    1.426300e+01  1.428920e+01  1.295415e+03  1.428769e+01 -4.289844e-05  \n",
       "75%    2.284200e+02  2.288729e+02  2.729764e+04  2.288728e+02  1.601520e-03  \n",
       "max    6.467053e+04  6.480854e+04  7.597554e+08           inf  9.641699e-01  "
      ]
     },
     "execution_count": 11,
     "metadata": {},
     "output_type": "execute_result"
    }
   ],
   "source": [
    "train.describe()"
   ]
  },
  {
   "cell_type": "code",
   "execution_count": 19,
   "metadata": {
    "ExecuteTime": {
     "end_time": "2021-12-19T19:56:01.138927Z",
     "start_time": "2021-12-19T19:56:00.901628Z"
    }
   },
   "outputs": [
    {
     "data": {
      "text/plain": [
       "14"
      ]
     },
     "execution_count": 19,
     "metadata": {},
     "output_type": "execute_result"
    }
   ],
   "source": [
    "train['Asset_ID'].nunique()"
   ]
  },
  {
   "cell_type": "markdown",
   "metadata": {},
   "source": [
    "there are 14 crypto currencies in the whole data set so Asset ID = 14 "
   ]
  },
  {
   "cell_type": "markdown",
   "metadata": {},
   "source": [
    "## RESAMPELLING"
   ]
  },
  {
   "cell_type": "markdown",
   "metadata": {},
   "source": [
    "For the following EDA, we will **resample the minute-wise crypto data to daily samples**. This reduces the amount of samples from 24,236,806 to 1,360. "
   ]
  },
  {
   "cell_type": "code",
   "execution_count": 12,
   "metadata": {
    "ExecuteTime": {
     "end_time": "2021-12-19T19:53:08.769466Z",
     "start_time": "2021-12-19T19:53:07.295286Z"
    }
   },
   "outputs": [],
   "source": [
    "train['timestamp'] = train['timestamp'].astype('datetime64[s]')"
   ]
  },
  {
   "cell_type": "code",
   "execution_count": 16,
   "metadata": {
    "ExecuteTime": {
     "end_time": "2021-12-19T19:53:53.991927Z",
     "start_time": "2021-12-19T19:53:53.985942Z"
    }
   },
   "outputs": [],
   "source": [
    "#initiaizing an empty data frame \n",
    "\n",
    "train_daily = pd.DataFrame() "
   ]
  },
  {
   "cell_type": "code",
   "execution_count": 15,
   "metadata": {
    "ExecuteTime": {
     "end_time": "2021-12-19T19:53:36.083142Z",
     "start_time": "2021-12-19T19:53:36.076123Z"
    }
   },
   "outputs": [
    {
     "data": {
      "text/plain": [
       "(0, 0)"
      ]
     },
     "execution_count": 15,
     "metadata": {},
     "output_type": "execute_result"
    }
   ],
   "source": [
    "train_daily.shape"
   ]
  },
  {
   "cell_type": "code",
   "execution_count": null,
   "metadata": {},
   "outputs": [],
   "source": [
    "for asset_id in asset_details.Asset_ID:\n",
    "    train_single = train[train.Asset_ID == asset_id].copy()\n",
    "\n",
    "    train_single_new = train_single[['timestamp','Count']].resample('D', on='timestamp').sum()\n",
    "    train_single_new['Open'] = train_single[['timestamp','Open']].resample('D', on='timestamp').first()['Open']\n",
    "    train_single_new['High'] = train_single[['timestamp','High']].resample('D', on='timestamp').max()['High']\n",
    "    train_single_new['Low'] = train_single[['timestamp','Low']].resample('D', on='timestamp').min()['Low']\n",
    "    train_single_new['Close'] = train_single[['timestamp','Close']].resample('D', on='timestamp').last()['Close']\n",
    "    train_single_new['Volume'] = train_single[['timestamp','Volume']].resample('D', on='timestamp').sum()['Volume']\n",
    "    # train_single_new['VWAP']\n",
    "    #train_single_new['Target'] = train_single[['timestamp','Target']].resample('D', on='timestamp').mean()['Target']\n",
    "    train_single_new['Asset_ID'] = asset_id\n",
    "\n",
    "    train_daily = train_daily.append(train_single_new.reset_index(drop=False))\n",
    "train_daily = train_daily.sort_values(by = ['timestamp', 'Asset_ID']).reset_index(drop=True)\n",
    "\n",
    "train_daily = train_daily.pivot(index='timestamp', columns='Asset_ID')[['Count', 'Open', 'High', 'Low', 'Close', 'Volume']]\n",
    "train_daily = train_daily.reset_index(drop=False)\n",
    "\n",
    "display(train_daily.head(10))"
   ]
  },
  {
   "cell_type": "code",
   "execution_count": null,
   "metadata": {},
   "outputs": [],
   "source": []
  }
 ],
 "metadata": {
  "kernelspec": {
   "display_name": "Python 3",
   "language": "python",
   "name": "python3"
  },
  "language_info": {
   "codemirror_mode": {
    "name": "ipython",
    "version": 3
   },
   "file_extension": ".py",
   "mimetype": "text/x-python",
   "name": "python",
   "nbconvert_exporter": "python",
   "pygments_lexer": "ipython3",
   "version": "3.8.5"
  }
 },
 "nbformat": 4,
 "nbformat_minor": 4
}
