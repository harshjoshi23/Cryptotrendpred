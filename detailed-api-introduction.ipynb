{
 "cells": [
  {
   "cell_type": "markdown",
   "metadata": {
    "_cell_guid": "b1076dfc-b9ad-4769-8c92-a6c4dae69d19",
    "_uuid": "8f2839f25d086af736a60e9eeb907d3b93b6e0e5",
    "papermill": {
     "duration": 0.015867,
     "end_time": "2021-11-02T16:04:08.529622",
     "exception": false,
     "start_time": "2021-11-02T16:04:08.513755",
     "status": "completed"
    },
    "tags": []
   },
   "source": [
    "## GResearch Crypto Forecasting\n",
    "### Introduction\n",
    "In this competition you will forecast the prices of several cyrptoassets. Once you make that prediction, you can move on to the next batch and will get additional data.\n",
    "\n",
    "This competition is different from most Kaggle Competitions in that:\n",
    "* You can only submit from Kaggle Notebooks\n",
    "* You must use our custom `gresearch_crypto` Python module.  The purpose of this module is to control the flow of information to ensure that you are not using future data to make predictions.  If you do not use this module properly, your code may fail.\n",
    "\n",
    "### This starter notebook demonstrates how to use the `gresearch_crypto` module to get the test features and make predictions.\n",
    "### TL;DR: End-to-End Usage Example\n",
    "```\n",
    "import gresearch_crypto\n",
    "env = gresearch_crypto.make_env()\n",
    "\n",
    "# Training data is in the competition dataset as usual\n",
    "train_df = pd.read_csv('/kaggle/input/g-research-crypto-forecasting/train.csv', low_memory=False)\n",
    "tgt_1_model.fit(train_df)\n",
    "tgt_2_model.fit(train_df)\n",
    "iter_test = env.iter_test()\n",
    "for (test_df, sample_prediction_df) in iter_test:\n",
    "    sample_prediction_df['Target'] = tgt_1_model.predict(test_df)\n",
    "    env.predict(sample_prediction_df)\n",
    "```\n",
    "Note that `tgt_1_model.fit` and `tgt_2_model.fit` are examples of the functions you need to write for the above example to work."
   ]
  },
  {
   "cell_type": "markdown",
   "metadata": {
    "papermill": {
     "duration": 0.014326,
     "end_time": "2021-11-02T16:04:08.558938",
     "exception": false,
     "start_time": "2021-11-02T16:04:08.544612",
     "status": "completed"
    },
    "tags": []
   },
   "source": [
    "### Introduction\n",
    "First let's import the module and create an environment. Adding the directory holding the module to the pythonpath with `sys.path.append` isn't strictly necessary within Kaggle notebooks, which handles that behind the scenes, but will be necessary if you are testing your code offline."
   ]
  },
  {
   "cell_type": "code",
   "execution_count": 1,
   "metadata": {
    "execution": {
     "iopub.execute_input": "2021-11-02T16:04:08.593060Z",
     "iopub.status.busy": "2021-11-02T16:04:08.591873Z",
     "iopub.status.idle": "2021-11-02T16:04:08.629467Z",
     "shell.execute_reply": "2021-11-02T16:04:08.630220Z",
     "shell.execute_reply.started": "2021-10-06T16:46:41.417921Z"
    },
    "papermill": {
     "duration": 0.056876,
     "end_time": "2021-11-02T16:04:08.630546",
     "exception": false,
     "start_time": "2021-11-02T16:04:08.573670",
     "status": "completed"
    },
    "tags": []
   },
   "outputs": [],
   "source": [
    "import gresearch_crypto\n",
    "import pandas as pd"
   ]
  },
  {
   "cell_type": "markdown",
   "metadata": {
    "papermill": {
     "duration": 0.014587,
     "end_time": "2021-11-02T16:04:08.660435",
     "exception": false,
     "start_time": "2021-11-02T16:04:08.645848",
     "status": "completed"
    },
    "tags": []
   },
   "source": [
    "You can only call make_env() **once**, so don't lose it!"
   ]
  },
  {
   "cell_type": "code",
   "execution_count": 2,
   "metadata": {
    "execution": {
     "iopub.execute_input": "2021-11-02T16:04:08.694451Z",
     "iopub.status.busy": "2021-11-02T16:04:08.693797Z",
     "iopub.status.idle": "2021-11-02T16:04:08.697663Z",
     "shell.execute_reply": "2021-11-02T16:04:08.698243Z",
     "shell.execute_reply.started": "2021-10-06T16:46:41.475086Z"
    },
    "papermill": {
     "duration": 0.022734,
     "end_time": "2021-11-02T16:04:08.698421",
     "exception": false,
     "start_time": "2021-11-02T16:04:08.675687",
     "status": "completed"
    },
    "tags": []
   },
   "outputs": [],
   "source": [
    "env = gresearch_crypto.make_env()"
   ]
  },
  {
   "cell_type": "code",
   "execution_count": 3,
   "metadata": {
    "execution": {
     "iopub.execute_input": "2021-11-02T16:04:08.732447Z",
     "iopub.status.busy": "2021-11-02T16:04:08.731787Z",
     "iopub.status.idle": "2021-11-02T16:04:08.738760Z",
     "shell.execute_reply": "2021-11-02T16:04:08.739397Z",
     "shell.execute_reply.started": "2021-10-06T16:46:41.480736Z"
    },
    "papermill": {
     "duration": 0.02625,
     "end_time": "2021-11-02T16:04:08.739573",
     "exception": false,
     "start_time": "2021-11-02T16:04:08.713323",
     "status": "completed"
    },
    "tags": []
   },
   "outputs": [
    {
     "name": "stdout",
     "output_type": "stream",
     "text": [
      "/kaggle/input/g-research-crypto-forecasting/example_sample_submission.csv\n",
      "/kaggle/input/g-research-crypto-forecasting/asset_details.csv\n",
      "/kaggle/input/g-research-crypto-forecasting/example_test.csv\n",
      "/kaggle/input/g-research-crypto-forecasting/train.csv\n",
      "/kaggle/input/g-research-crypto-forecasting/supplemental_train.csv\n",
      "/kaggle/input/g-research-crypto-forecasting/gresearch_crypto/competition.cpython-37m-x86_64-linux-gnu.so\n",
      "/kaggle/input/g-research-crypto-forecasting/gresearch_crypto/__init__.py\n"
     ]
    }
   ],
   "source": [
    "import os\n",
    "for dirname, _, filenames in os.walk('/kaggle/input'):\n",
    "    for filename in filenames:\n",
    "        print(os.path.join(dirname, filename))"
   ]
  },
  {
   "cell_type": "markdown",
   "metadata": {
    "papermill": {
     "duration": 0.015182,
     "end_time": "2021-11-02T16:04:08.770728",
     "exception": false,
     "start_time": "2021-11-02T16:04:08.755546",
     "status": "completed"
    },
    "tags": []
   },
   "source": [
    "### Training data is in the competition dataset as usual"
   ]
  },
  {
   "cell_type": "code",
   "execution_count": 4,
   "metadata": {
    "execution": {
     "iopub.execute_input": "2021-11-02T16:04:08.804297Z",
     "iopub.status.busy": "2021-11-02T16:04:08.803609Z",
     "iopub.status.idle": "2021-11-02T16:05:12.005233Z",
     "shell.execute_reply": "2021-11-02T16:05:12.005777Z",
     "shell.execute_reply.started": "2021-10-06T16:46:41.501125Z"
    },
    "papermill": {
     "duration": 63.220003,
     "end_time": "2021-11-02T16:05:12.005967",
     "exception": false,
     "start_time": "2021-11-02T16:04:08.785964",
     "status": "completed"
    },
    "tags": []
   },
   "outputs": [
    {
     "data": {
      "text/html": [
       "<div>\n",
       "<style scoped>\n",
       "    .dataframe tbody tr th:only-of-type {\n",
       "        vertical-align: middle;\n",
       "    }\n",
       "\n",
       "    .dataframe tbody tr th {\n",
       "        vertical-align: top;\n",
       "    }\n",
       "\n",
       "    .dataframe thead th {\n",
       "        text-align: right;\n",
       "    }\n",
       "</style>\n",
       "<table border=\"1\" class=\"dataframe\">\n",
       "  <thead>\n",
       "    <tr style=\"text-align: right;\">\n",
       "      <th></th>\n",
       "      <th>timestamp</th>\n",
       "      <th>Asset_ID</th>\n",
       "      <th>Count</th>\n",
       "      <th>Open</th>\n",
       "      <th>High</th>\n",
       "      <th>Low</th>\n",
       "      <th>Close</th>\n",
       "      <th>Volume</th>\n",
       "      <th>VWAP</th>\n",
       "      <th>Target</th>\n",
       "    </tr>\n",
       "  </thead>\n",
       "  <tbody>\n",
       "    <tr>\n",
       "      <th>0</th>\n",
       "      <td>1514764860</td>\n",
       "      <td>2</td>\n",
       "      <td>40</td>\n",
       "      <td>2376.580</td>\n",
       "      <td>2399.50</td>\n",
       "      <td>2357.14</td>\n",
       "      <td>2374.590</td>\n",
       "      <td>19.233005</td>\n",
       "      <td>2373.116392</td>\n",
       "      <td>-0.004218</td>\n",
       "    </tr>\n",
       "    <tr>\n",
       "      <th>1</th>\n",
       "      <td>1514764860</td>\n",
       "      <td>0</td>\n",
       "      <td>5</td>\n",
       "      <td>8.530</td>\n",
       "      <td>8.53</td>\n",
       "      <td>8.53</td>\n",
       "      <td>8.530</td>\n",
       "      <td>78.380000</td>\n",
       "      <td>8.530000</td>\n",
       "      <td>-0.014399</td>\n",
       "    </tr>\n",
       "    <tr>\n",
       "      <th>2</th>\n",
       "      <td>1514764860</td>\n",
       "      <td>1</td>\n",
       "      <td>229</td>\n",
       "      <td>13835.194</td>\n",
       "      <td>14013.80</td>\n",
       "      <td>13666.11</td>\n",
       "      <td>13850.176</td>\n",
       "      <td>31.550062</td>\n",
       "      <td>13827.062093</td>\n",
       "      <td>-0.014643</td>\n",
       "    </tr>\n",
       "  </tbody>\n",
       "</table>\n",
       "</div>"
      ],
      "text/plain": [
       "    timestamp  Asset_ID  Count       Open      High       Low      Close  \\\n",
       "0  1514764860         2     40   2376.580   2399.50   2357.14   2374.590   \n",
       "1  1514764860         0      5      8.530      8.53      8.53      8.530   \n",
       "2  1514764860         1    229  13835.194  14013.80  13666.11  13850.176   \n",
       "\n",
       "      Volume          VWAP    Target  \n",
       "0  19.233005   2373.116392 -0.004218  \n",
       "1  78.380000      8.530000 -0.014399  \n",
       "2  31.550062  13827.062093 -0.014643  "
      ]
     },
     "execution_count": 4,
     "metadata": {},
     "output_type": "execute_result"
    }
   ],
   "source": [
    "train_df = pd.read_csv('../input/g-research-crypto-forecasting/train.csv', low_memory=False, \n",
    "                       dtype={'Asset_ID': 'int8', 'Count': 'int32', 'row_id': 'int32', 'Count': 'int32', \n",
    "                              'Open': 'float64', 'High': 'float64', 'Low': 'float64', 'Close': 'float64', \n",
    "                              'Volume': 'float64', 'VWAP': 'float64'\n",
    "                             }\n",
    "                      )\n",
    "train_df.head(3)"
   ]
  },
  {
   "cell_type": "markdown",
   "metadata": {
    "papermill": {
     "duration": 0.015854,
     "end_time": "2021-11-02T16:05:12.037786",
     "exception": false,
     "start_time": "2021-11-02T16:05:12.021932",
     "status": "completed"
    },
    "tags": []
   },
   "source": [
    "### `iter_test` function\n",
    "\n",
    "This is a generator which loops through each timestamp in the test set. You have direct access to the example test rows for your convenience, but your code will only be able to get rows from the real test set via the API. Once you call `predict` you can continue on to the next batch.\n",
    "\n",
    "Yields:\n",
    "* While there are more batch(es) and `predict` was called successfully since the last yield, yields a tuple of:\n",
    "    * `test_df`: DataFrame with the test features for the next batch, and user responses for the previous batch.\n",
    "    * `sample_prediction_df`: DataFrame with an example prediction.  Intended to be filled in and passed back to the `predict` function.\n",
    "* If `predict` has not been called successfully since the last yield, prints an error and yields `None`."
   ]
  },
  {
   "cell_type": "code",
   "execution_count": 5,
   "metadata": {
    "execution": {
     "iopub.execute_input": "2021-11-02T16:05:12.073979Z",
     "iopub.status.busy": "2021-11-02T16:05:12.073284Z",
     "iopub.status.idle": "2021-11-02T16:05:12.076789Z",
     "shell.execute_reply": "2021-11-02T16:05:12.077378Z",
     "shell.execute_reply.started": "2021-10-06T16:47:54.525929Z"
    },
    "papermill": {
     "duration": 0.022921,
     "end_time": "2021-11-02T16:05:12.077554",
     "exception": false,
     "start_time": "2021-11-02T16:05:12.054633",
     "status": "completed"
    },
    "tags": []
   },
   "outputs": [],
   "source": [
    "# You can only iterate through a result from `env.iter_test()` once\n",
    "# so be careful not to lose it once you start iterating.\n",
    "iter_test = env.iter_test()"
   ]
  },
  {
   "cell_type": "markdown",
   "metadata": {
    "papermill": {
     "duration": 0.015621,
     "end_time": "2021-11-02T16:05:12.109112",
     "exception": false,
     "start_time": "2021-11-02T16:05:12.093491",
     "status": "completed"
    },
    "tags": []
   },
   "source": [
    "Let's get the data for the first test batch and check it out."
   ]
  },
  {
   "cell_type": "code",
   "execution_count": 6,
   "metadata": {
    "execution": {
     "iopub.execute_input": "2021-11-02T16:05:12.145645Z",
     "iopub.status.busy": "2021-11-02T16:05:12.144955Z",
     "iopub.status.idle": "2021-11-02T16:05:12.191971Z",
     "shell.execute_reply": "2021-11-02T16:05:12.192550Z",
     "shell.execute_reply.started": "2021-10-06T16:47:54.531219Z"
    },
    "papermill": {
     "duration": 0.067826,
     "end_time": "2021-11-02T16:05:12.192725",
     "exception": false,
     "start_time": "2021-11-02T16:05:12.124899",
     "status": "completed"
    },
    "tags": []
   },
   "outputs": [
    {
     "name": "stdout",
     "output_type": "stream",
     "text": [
      "This version of the API is not optimized and should not be used to estimate the runtime of your code on the hidden test set.\n"
     ]
    },
    {
     "data": {
      "text/html": [
       "<div>\n",
       "<style scoped>\n",
       "    .dataframe tbody tr th:only-of-type {\n",
       "        vertical-align: middle;\n",
       "    }\n",
       "\n",
       "    .dataframe tbody tr th {\n",
       "        vertical-align: top;\n",
       "    }\n",
       "\n",
       "    .dataframe thead th {\n",
       "        text-align: right;\n",
       "    }\n",
       "</style>\n",
       "<table border=\"1\" class=\"dataframe\">\n",
       "  <thead>\n",
       "    <tr style=\"text-align: right;\">\n",
       "      <th></th>\n",
       "      <th>timestamp</th>\n",
       "      <th>Asset_ID</th>\n",
       "      <th>Count</th>\n",
       "      <th>Open</th>\n",
       "      <th>High</th>\n",
       "      <th>Low</th>\n",
       "      <th>Close</th>\n",
       "      <th>Volume</th>\n",
       "      <th>VWAP</th>\n",
       "      <th>row_id</th>\n",
       "    </tr>\n",
       "  </thead>\n",
       "  <tbody>\n",
       "    <tr>\n",
       "      <th>0</th>\n",
       "      <td>1623542400</td>\n",
       "      <td>3</td>\n",
       "      <td>1201</td>\n",
       "      <td>1.478556</td>\n",
       "      <td>1.48603</td>\n",
       "      <td>1.478</td>\n",
       "      <td>1.483681</td>\n",
       "      <td>654799.561103</td>\n",
       "      <td>1.481439</td>\n",
       "      <td>0</td>\n",
       "    </tr>\n",
       "    <tr>\n",
       "      <th>1</th>\n",
       "      <td>1623542400</td>\n",
       "      <td>2</td>\n",
       "      <td>1020</td>\n",
       "      <td>580.306667</td>\n",
       "      <td>583.89000</td>\n",
       "      <td>579.910</td>\n",
       "      <td>582.276667</td>\n",
       "      <td>1227.988328</td>\n",
       "      <td>581.697038</td>\n",
       "      <td>1</td>\n",
       "    </tr>\n",
       "    <tr>\n",
       "      <th>2</th>\n",
       "      <td>1623542400</td>\n",
       "      <td>0</td>\n",
       "      <td>626</td>\n",
       "      <td>343.789500</td>\n",
       "      <td>345.10800</td>\n",
       "      <td>343.640</td>\n",
       "      <td>344.598000</td>\n",
       "      <td>1718.832569</td>\n",
       "      <td>344.441729</td>\n",
       "      <td>2</td>\n",
       "    </tr>\n",
       "  </tbody>\n",
       "</table>\n",
       "</div>"
      ],
      "text/plain": [
       "    timestamp  Asset_ID  Count        Open       High      Low       Close  \\\n",
       "0  1623542400         3   1201    1.478556    1.48603    1.478    1.483681   \n",
       "1  1623542400         2   1020  580.306667  583.89000  579.910  582.276667   \n",
       "2  1623542400         0    626  343.789500  345.10800  343.640  344.598000   \n",
       "\n",
       "          Volume        VWAP  row_id  \n",
       "0  654799.561103    1.481439       0  \n",
       "1    1227.988328  581.697038       1  \n",
       "2    1718.832569  344.441729       2  "
      ]
     },
     "execution_count": 6,
     "metadata": {},
     "output_type": "execute_result"
    }
   ],
   "source": [
    "(test_df, sample_prediction_df) = next(iter_test)\n",
    "test_df.head(3)"
   ]
  },
  {
   "cell_type": "markdown",
   "metadata": {
    "papermill": {
     "duration": 0.016066,
     "end_time": "2021-11-02T16:05:12.225265",
     "exception": false,
     "start_time": "2021-11-02T16:05:12.209199",
     "status": "completed"
    },
    "tags": []
   },
   "source": [
    "Note the warning about the lack of optimization! The version of the API that will deliver the hidden test set is both more efficient and going to deliver substantially more data. It's highly recommended that you read to [the data page](https://www.kaggle.com/c/g-research-crypto-forecasting/data) timeseries section for a discussion of how to plan for the impact of the API on your notebook's runtime and memory use."
   ]
  },
  {
   "cell_type": "code",
   "execution_count": 7,
   "metadata": {
    "execution": {
     "iopub.execute_input": "2021-11-02T16:05:12.261885Z",
     "iopub.status.busy": "2021-11-02T16:05:12.260856Z",
     "iopub.status.idle": "2021-11-02T16:05:12.270425Z",
     "shell.execute_reply": "2021-11-02T16:05:12.270943Z",
     "shell.execute_reply.started": "2021-10-06T16:47:54.592899Z"
    },
    "papermill": {
     "duration": 0.029487,
     "end_time": "2021-11-02T16:05:12.271150",
     "exception": false,
     "start_time": "2021-11-02T16:05:12.241663",
     "status": "completed"
    },
    "tags": []
   },
   "outputs": [
    {
     "data": {
      "text/html": [
       "<div>\n",
       "<style scoped>\n",
       "    .dataframe tbody tr th:only-of-type {\n",
       "        vertical-align: middle;\n",
       "    }\n",
       "\n",
       "    .dataframe tbody tr th {\n",
       "        vertical-align: top;\n",
       "    }\n",
       "\n",
       "    .dataframe thead th {\n",
       "        text-align: right;\n",
       "    }\n",
       "</style>\n",
       "<table border=\"1\" class=\"dataframe\">\n",
       "  <thead>\n",
       "    <tr style=\"text-align: right;\">\n",
       "      <th></th>\n",
       "      <th>row_id</th>\n",
       "      <th>Target</th>\n",
       "    </tr>\n",
       "  </thead>\n",
       "  <tbody>\n",
       "    <tr>\n",
       "      <th>0</th>\n",
       "      <td>0</td>\n",
       "      <td>0.0</td>\n",
       "    </tr>\n",
       "    <tr>\n",
       "      <th>1</th>\n",
       "      <td>1</td>\n",
       "      <td>0.0</td>\n",
       "    </tr>\n",
       "    <tr>\n",
       "      <th>2</th>\n",
       "      <td>2</td>\n",
       "      <td>0.0</td>\n",
       "    </tr>\n",
       "  </tbody>\n",
       "</table>\n",
       "</div>"
      ],
      "text/plain": [
       "   row_id  Target\n",
       "0       0     0.0\n",
       "1       1     0.0\n",
       "2       2     0.0"
      ]
     },
     "execution_count": 7,
     "metadata": {},
     "output_type": "execute_result"
    }
   ],
   "source": [
    "sample_prediction_df.head(3)"
   ]
  },
  {
   "cell_type": "markdown",
   "metadata": {
    "papermill": {
     "duration": 0.016503,
     "end_time": "2021-11-02T16:05:12.304661",
     "exception": false,
     "start_time": "2021-11-02T16:05:12.288158",
     "status": "completed"
    },
    "tags": []
   },
   "source": [
    "We'll get an error if we try to continue on to the next batch without making our predictions for the current batch."
   ]
  },
  {
   "cell_type": "code",
   "execution_count": 8,
   "metadata": {
    "execution": {
     "iopub.execute_input": "2021-11-02T16:05:12.342244Z",
     "iopub.status.busy": "2021-11-02T16:05:12.341575Z",
     "iopub.status.idle": "2021-11-02T16:05:12.346077Z",
     "shell.execute_reply": "2021-11-02T16:05:12.346670Z",
     "shell.execute_reply.started": "2021-10-06T16:47:54.603845Z"
    },
    "papermill": {
     "duration": 0.025057,
     "end_time": "2021-11-02T16:05:12.346840",
     "exception": false,
     "start_time": "2021-11-02T16:05:12.321783",
     "status": "completed"
    },
    "tags": []
   },
   "outputs": [
    {
     "name": "stdout",
     "output_type": "stream",
     "text": [
      "You must call `predict()` successfully before you can continue with `iter_test()`\n"
     ]
    }
   ],
   "source": [
    "next(iter_test)"
   ]
  },
  {
   "cell_type": "markdown",
   "metadata": {
    "papermill": {
     "duration": 0.016901,
     "end_time": "2021-11-02T16:05:12.381189",
     "exception": false,
     "start_time": "2021-11-02T16:05:12.364288",
     "status": "completed"
    },
    "tags": []
   },
   "source": [
    "### **`predict`** function\n",
    "Stores your predictions for the current batch.  Expects the same format as `sample_prediction_df`.\n",
    "\n",
    "Args:\n",
    "* `predictions_df`: DataFrame which must have the same format as `sample_prediction_df`.\n",
    "\n",
    "This function will raise an Exception if not called after a successful iteration of the `iter_test` generator."
   ]
  },
  {
   "cell_type": "markdown",
   "metadata": {
    "papermill": {
     "duration": 0.016977,
     "end_time": "2021-11-02T16:05:12.415358",
     "exception": false,
     "start_time": "2021-11-02T16:05:12.398381",
     "status": "completed"
    },
    "tags": []
   },
   "source": [
    "Let's make a dummy prediction using the sample provided by `iter_test`."
   ]
  },
  {
   "cell_type": "code",
   "execution_count": 9,
   "metadata": {
    "execution": {
     "iopub.execute_input": "2021-11-02T16:05:12.454376Z",
     "iopub.status.busy": "2021-11-02T16:05:12.453730Z",
     "iopub.status.idle": "2021-11-02T16:05:12.458084Z",
     "shell.execute_reply": "2021-11-02T16:05:12.458590Z",
     "shell.execute_reply.started": "2021-10-06T16:47:54.616787Z"
    },
    "papermill": {
     "duration": 0.025164,
     "end_time": "2021-11-02T16:05:12.458762",
     "exception": false,
     "start_time": "2021-11-02T16:05:12.433598",
     "status": "completed"
    },
    "tags": []
   },
   "outputs": [],
   "source": [
    "env.predict(sample_prediction_df)"
   ]
  },
  {
   "cell_type": "markdown",
   "metadata": {
    "papermill": {
     "duration": 0.016917,
     "end_time": "2021-11-02T16:05:12.493072",
     "exception": false,
     "start_time": "2021-11-02T16:05:12.476155",
     "status": "completed"
    },
    "tags": []
   },
   "source": [
    "### Main Loop\n",
    "Let's loop through all the remaining batches in the test set generator and make the default prediction for each.  The `iter_test` generator will simply stop returning values once you've reached the end.\n",
    "\n",
    "When writing your own notebooks, be sure to write robust code that makes as few assumptions about the `iter_test`/`predict` loop as possible.  For example there may be large gaps between timestamps for one or more cryptoassets. In the unlikely event that a cryptoasset were dropped from enough exchanges it might go missing from the dataset entirely.\n",
    "\n",
    "You may assume that the structure of `sample_prediction_df` will not change in this competition."
   ]
  },
  {
   "cell_type": "code",
   "execution_count": 10,
   "metadata": {
    "execution": {
     "iopub.execute_input": "2021-11-02T16:05:12.530436Z",
     "iopub.status.busy": "2021-11-02T16:05:12.529807Z",
     "iopub.status.idle": "2021-11-02T16:05:12.541436Z",
     "shell.execute_reply": "2021-11-02T16:05:12.541935Z",
     "shell.execute_reply.started": "2021-10-06T16:47:54.628356Z"
    },
    "papermill": {
     "duration": 0.031852,
     "end_time": "2021-11-02T16:05:12.542121",
     "exception": false,
     "start_time": "2021-11-02T16:05:12.510269",
     "status": "completed"
    },
    "tags": []
   },
   "outputs": [],
   "source": [
    "for (test_df, sample_prediction_df) in iter_test:\n",
    "    sample_prediction_df['Target'] = 0\n",
    "    env.predict(sample_prediction_df)"
   ]
  },
  {
   "cell_type": "markdown",
   "metadata": {
    "papermill": {
     "duration": 0.016762,
     "end_time": "2021-11-02T16:05:12.576034",
     "exception": false,
     "start_time": "2021-11-02T16:05:12.559272",
     "status": "completed"
    },
    "tags": []
   },
   "source": [
    "### Restart the Notebook to run your code again\n",
    "In order to combat cheating you are only allowed to call `make_env` or iterate through `iter_test` once per Notebook run.  However, while you're iterating on your model it's reasonable to try something out, change the model a bit, and try it again.  Unfortunately, if you try to simply re-run the code, or even refresh the browser page, you'll still be running on the same Notebook execution session you had been running before, and the `gresearch_crypto` module will still throw errors.  To get around this you need to explicitly restart your Notebook execution session."
   ]
  }
 ],
 "metadata": {
  "kernelspec": {
   "display_name": "Python 3",
   "language": "python",
   "name": "python3"
  },
  "language_info": {
   "codemirror_mode": {
    "name": "ipython",
    "version": 3
   },
   "file_extension": ".py",
   "mimetype": "text/x-python",
   "name": "python",
   "nbconvert_exporter": "python",
   "pygments_lexer": "ipython3",
   "version": "3.8.5"
  },
  "papermill": {
   "default_parameters": {},
   "duration": 73.873031,
   "end_time": "2021-11-02T16:05:13.907815",
   "environment_variables": {},
   "exception": null,
   "input_path": "__notebook__.ipynb",
   "output_path": "__notebook__.ipynb",
   "parameters": {},
   "start_time": "2021-11-02T16:04:00.034784",
   "version": "2.3.3"
  }
 },
 "nbformat": 4,
 "nbformat_minor": 5
}
